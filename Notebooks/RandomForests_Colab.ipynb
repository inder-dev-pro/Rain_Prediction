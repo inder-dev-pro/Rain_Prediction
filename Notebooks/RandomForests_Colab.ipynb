{
 "cells": [
  {
   "cell_type": "code",
   "execution_count": null,
   "metadata": {
    "id": "TxPJL7ObhsUl"
   },
   "outputs": [],
   "source": [
    "from itertools import count\n",
    "from turtle import color\n",
    "from sklearn.metrics import accuracy_score, precision_score\n",
    "from sklearn.linear_model import LinearRegression\n",
    "from sklearn.linear_model import LogisticRegression\n",
    "from sklearn.model_selection import train_test_split\n",
    "from sklearn import preprocessing\n",
    "from urllib.request import urlretrieve\n",
    "from matplotlib import scale\n",
    "import pandas as pd\n",
    "import numpy as np\n",
    "import csv\n",
    "import math\n",
    "import plotly.express as px\n",
    "import plotly.graph_objects as go\n",
    "import matplotlib.pyplot as  mat\n",
    "import seaborn as sea\n",
    "import os\n",
    "from sklearn.impute import SimpleImputer\n",
    "from sklearn.tree import DecisionTreeClassifier\n",
    "from sklearn.ensemble import RandomForestClassifier\n",
    "from sklearn.tree import plot_tree, export_text\n",
    "import time"
   ]
  },
  {
   "cell_type": "markdown",
   "metadata": {},
   "source": []
  },
  {
   "cell_type": "code",
   "execution_count": null,
   "metadata": {
    "colab": {
     "base_uri": "https://localhost:8080/"
    },
    "id": "Z8K4rQbthvIW",
    "outputId": "61328314-17f7-431d-bcbe-ad1968ac3720"
   },
   "outputs": [
    {
     "name": "stdout",
     "output_type": "stream",
     "text": [
      "<class 'pandas.core.frame.DataFrame'>\n",
      "RangeIndex: 145460 entries, 0 to 145459\n",
      "Data columns (total 23 columns):\n",
      " #   Column         Non-Null Count   Dtype  \n",
      "---  ------         --------------   -----  \n",
      " 0   Date           145460 non-null  object \n",
      " 1   Location       145460 non-null  object \n",
      " 2   MinTemp        143975 non-null  float64\n",
      " 3   MaxTemp        144199 non-null  float64\n",
      " 4   Rainfall       142199 non-null  float64\n",
      " 5   Evaporation    82670 non-null   float64\n",
      " 6   Sunshine       75625 non-null   float64\n",
      " 7   WindGustDir    135134 non-null  object \n",
      " 8   WindGustSpeed  135197 non-null  float64\n",
      " 9   WindDir9am     134894 non-null  object \n",
      " 10  WindDir3pm     141232 non-null  object \n",
      " 11  WindSpeed9am   143693 non-null  float64\n",
      " 12  WindSpeed3pm   142398 non-null  float64\n",
      " 13  Humidity9am    142806 non-null  float64\n",
      " 14  Humidity3pm    140953 non-null  float64\n",
      " 15  Pressure9am    130395 non-null  float64\n",
      " 16  Pressure3pm    130432 non-null  float64\n",
      " 17  Cloud9am       89572 non-null   float64\n",
      " 18  Cloud3pm       86102 non-null   float64\n",
      " 19  Temp9am        143693 non-null  float64\n",
      " 20  Temp3pm        141851 non-null  float64\n",
      " 21  RainToday      142199 non-null  object \n",
      " 22  RainTomorrow   142193 non-null  object \n",
      "dtypes: float64(16), object(7)\n",
      "memory usage: 25.5+ MB\n"
     ]
    }
   ],
   "source": [
    "data_dir='/content/drive/MyDrive/weatherAUS.csv'\n",
    "os.listdir(os.path.dirname(data_dir))\n",
    "raw_df=pd.read_csv(data_dir)\n",
    "raw_df.info()\n",
    "raw_df.describe()\n",
    "raw_df.dropna(subset='RainTomorrow', inplace=True)"
   ]
  },
  {
   "cell_type": "code",
   "execution_count": null,
   "metadata": {
    "colab": {
     "base_uri": "https://localhost:8080/"
    },
    "id": "CImXz5LFh6DE",
    "outputId": "241b023f-ad7d-4122-9df0-fbf7643d3cde"
   },
   "outputs": [
    {
     "data": {
      "text/plain": [
       "(28439, 23)"
      ]
     },
     "execution_count": 7,
     "metadata": {},
     "output_type": "execute_result"
    }
   ],
   "source": [
    "train_val_data, test_data=train_test_split(raw_df,test_size=0.2, random_state=42)\n",
    "train_data, val_data=train_test_split(train_val_data, test_size=0.25, random_state=42)\n",
    "train_data.shape\n",
    "test_data.shape\n",
    "val_data.shape"
   ]
  },
  {
   "cell_type": "code",
   "execution_count": null,
   "metadata": {
    "colab": {
     "base_uri": "https://localhost:8080/",
     "height": 449
    },
    "id": "l9-JWybkiBxV",
    "outputId": "ad8f9a9e-4818-41e7-fa3a-82dda7980fca"
   },
   "outputs": [
    {
     "data": {
      "image/png": "[encoded data removed]",
      "text/plain": [
       "<Figure size 640x480 with 1 Axes>"
      ]
     },
     "metadata": {},
     "output_type": "display_data"
    }
   ],
   "source": [
    "years=pd.to_datetime(raw_df['Date']).dt.year\n",
    "sea.countplot(x=years)\n",
    "test_data=raw_df[years>2015]\n",
    "train_data=raw_df[years<2015]\n",
    "val_data=raw_df[years==2015]"
   ]
  },
  {
   "cell_type": "code",
   "execution_count": null,
   "metadata": {
    "id": "vmfQJpC_iF5H"
   },
   "outputs": [],
   "source": [
    "input_cols=list(raw_df.columns[1:-1 ])\n",
    "target_cols='RainTomorrow'\n",
    "nouse_cols=list(raw_df.columns[0])"
   ]
  },
  {
   "cell_type": "code",
   "execution_count": null,
   "metadata": {
    "id": "uKTPB-IPs491"
   },
   "outputs": [],
   "source": [
    "train_inputs=train_data[input_cols].copy()\n",
    "train_target=train_data[target_cols].copy()\n",
    "test_inputs=test_data[input_cols].copy()\n",
    "test_target=test_data[target_cols].copy()\n",
    "val_inputs=val_data[input_cols].copy()\n",
    "val_target=val_data[target_cols].copy()"
   ]
  },
  {
   "cell_type": "code",
   "execution_count": null,
   "metadata": {
    "colab": {
     "base_uri": "https://localhost:8080/"
    },
    "id": "H635S2dCs41k",
    "outputId": "668b6819-0ef6-469b-9a2e-7a666e90a9c6"
   },
   "outputs": [
    {
     "data": {
      "text/plain": [
       "0"
      ]
     },
     "execution_count": 11,
     "metadata": {},
     "output_type": "execute_result"
    }
   ],
   "source": [
    "imputer=SimpleImputer()\n",
    "numeric_cols=train_inputs.select_dtypes(include=np.number).columns.to_list()\n",
    "categorical_cols=train_inputs.select_dtypes(include='object').columns.to_list()\n",
    "train_inputs[categorical_cols].describe()\n",
    "imputer.fit(raw_df[numeric_cols])\n",
    "list(imputer.statistics_)\n",
    "train_inputs[numeric_cols]=imputer.transform(train_inputs[numeric_cols])\n",
    "test_inputs[numeric_cols]=imputer.transform(test_inputs[numeric_cols])\n",
    "val_inputs[numeric_cols]=imputer.transform(val_inputs[numeric_cols])\n",
    "val_target.isna().sum()"
   ]
  },
  {
   "cell_type": "code",
   "execution_count": null,
   "metadata": {
    "id": "bnn3L_3bs4Uw"
   },
   "outputs": [],
   "source": [
    "scaler=preprocessing.MinMaxScaler()\n",
    "scaler.fit(raw_df[numeric_cols])\n",
    "train_inputs[numeric_cols]=scaler.transform(train_inputs[numeric_cols])\n",
    "val_inputs[numeric_cols]=scaler.transform(val_inputs[numeric_cols])"
   ]
  },
  {
   "cell_type": "code",
   "execution_count": null,
   "metadata": {
    "id": "JSpcN9mC5Uy0"
   },
   "outputs": [],
   "source": [
    "raw_df[categorical_cols] = raw_df[categorical_cols].fillna('missing')\n",
    "train_inputs[categorical_cols] = train_inputs[categorical_cols].fillna('missing')\n",
    "test_inputs[categorical_cols] = test_inputs[categorical_cols].fillna('missing')\n",
    "val_inputs[categorical_cols] = val_inputs[categorical_cols].fillna('missing')"
   ]
  },
  {
   "cell_type": "code",
   "execution_count": null,
   "metadata": {
    "colab": {
     "base_uri": "https://localhost:8080/"
    },
    "id": "OTpmA33X5UvK",
    "outputId": "7179d011-02e9-49fe-fea8-21edfff18a79"
   },
   "outputs": [
    {
     "data": {
      "text/plain": [
       "103"
      ]
     },
     "execution_count": 14,
     "metadata": {},
     "output_type": "execute_result"
    }
   ],
   "source": [
    "encoder=preprocessing.OneHotEncoder(handle_unknown='ignore')\n",
    "encoder.fit(raw_df[categorical_cols])\n",
    "names=list(encoder.get_feature_names_out(categorical_cols))\n",
    "raw_df[categorical_cols].nunique().sum()"
   ]
  },
  {
   "cell_type": "code",
   "execution_count": null,
   "metadata": {
    "colab": {
     "base_uri": "https://localhost:8080/"
    },
    "id": "sEwQlUbKK4HU",
    "outputId": "5d05d67a-3a2c-437d-a0e8-d7b43c811eee"
   },
   "outputs": [
    {
     "data": {
      "text/plain": [
       "0.8566537055307295"
      ]
     },
     "execution_count": 17,
     "metadata": {},
     "output_type": "execute_result"
    }
   ],
   "source": [
    "#Base_Model\n",
    "model=RandomForestClassifier(random_state=42, n_jobs=-1).fit(train_inputs, train_target)\n",
    "model.predict(train_inputs)\n",
    "model.score(train_inputs, train_target)\n",
    "model.score(val_inputs,val_target)\n"
   ]
  },
  {
   "cell_type": "code",
   "execution_count": null,
   "metadata": {
    "colab": {
     "background_save": true
    },
    "id": "PPIEF3EBPLj1",
    "outputId": "c49a73e9-ed8b-44fb-9f47-915c044e5797"
   },
   "outputs": [
    {
     "data": {
      "text/plain": [
       "0.8577563693343393"
      ]
     },
     "execution_count": 18,
     "metadata": {},
     "output_type": "execute_result"
    }
   ],
   "source": [
    "#Base_Model\n",
    "model1=RandomForestClassifier(random_state=42, n_jobs=-1, n_estimators=500).fit(train_inputs, train_target)\n",
    "model1.predict(train_inputs)\n",
    "model1.score(train_inputs, train_target)\n",
    "model1.score(val_inputs,val_target)"
   ]
  },
  {
   "cell_type": "code",
   "execution_count": null,
   "metadata": {
    "id": "vqxNeSzl13hv"
   },
   "outputs": [],
   "source": [
    "def Estimator(est):\n",
    "  model=RandomForestClassifier(random_state=42, n_jobs=-1, n_estimators=est).fit(train_inputs, train_target)\n",
    "  train=1-model.score(train_inputs, train_target)\n",
    "  val=1-model.score(val_inputs, val_target)\n",
    "  return {'No. of estimators':est, 'Training_Error':train, 'Validation_Error':val}\n",
    "\n",
    "for i in range(50, 201):\n",
    "  esti=pd.DataFrame(Estimator(i) for i in range(50,100))\n",
    "  esti\n",
    "\n",
    "esti\n"
   ]
  },
  {
   "cell_type": "code",
   "execution_count": null,
   "metadata": {
    "id": "U6XHxQ18hp44"
   },
   "outputs": [],
   "source": [
    "from matplotlib import pyplot as plt\n",
    "esti.plot(kind='scatter', x='No. of estimators', y='Training_Error', s=32, alpha=.8)\n",
    "plt.gca().spines[['top', 'right',]].set_visible(False)"
   ]
  }
 ],
 "metadata": {
  "colab": {
   "provenance": []
  },
  "kernelspec": {
   "display_name": "Python 3",
   "name": "python3"
  },
  "language_info": {
   "name": "python"
  }
 },
 "nbformat": 4,
 "nbformat_minor": 0
}
